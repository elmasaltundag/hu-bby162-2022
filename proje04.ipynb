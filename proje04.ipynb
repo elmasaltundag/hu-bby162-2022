{
  "nbformat": 4,
  "nbformat_minor": 0,
  "metadata": {
    "colab": {
      "name": "proje04.ipynb",
      "provenance": [],
      "collapsed_sections": [],
      "mount_file_id": "17-i5TaBR1FfJZM_B03DkiFFzBxoLkYcG",
      "authorship_tag": "ABX9TyPI/nUPR5JxRpyMRlKYaXps",
      "include_colab_link": true
    },
    "kernelspec": {
      "name": "python3",
      "display_name": "Python 3"
    },
    "language_info": {
      "name": "python"
    }
  },
  "cells": [
    {
      "cell_type": "markdown",
      "metadata": {
        "id": "view-in-github",
        "colab_type": "text"
      },
      "source": [
        "<a href=\"https://colab.research.google.com/github/elmasaltundag/hu-bby162-2022/blob/main/proje04.ipynb\" target=\"_parent\"><img src=\"https://colab.research.google.com/assets/colab-badge.svg\" alt=\"Open In Colab\"/></a>"
      ]
    },
    {
      "cell_type": "code",
      "source": [
        "from google.colab import drive\n",
        "\n",
        "dosya = \"/content/drive/MyDrive/veritabani.txt\"\n",
        "\n",
        "\n",
        "print(\"Kütüphane Katoloğuna Hoşgeldiniz :)\")\n",
        "adınız = input(\"İsminizi Giriniz: \")\n",
        "\n",
        "def KitaplarınListesi():\n",
        "  f = open(dosya, 'r') \n",
        "  for line in f.readlines():\n",
        "    print(line)\n",
        "    f.close()\n",
        "\n",
        "\n",
        "\n",
        "def KitaplarınKaydı():\n",
        "  kitapAdı = input(\"Kitap adını giriniz: \")\n",
        "  yazarAdı = input(\"Yazar adını giriniz: \")\n",
        "  basımYılı = input(\"Basım yılını giriniz: \")\n",
        "  yayınevı = input(\"Yayınevini giriniz: \")\n",
        "  f = open(dosya, 'a' )\n",
        "  f.write(kitapAdı + \" , \"+ yazarAdı + \" , \" + basımYılı + \" , \"+ yayınevı +\"\\n\")\n",
        "  f.close()\n",
        "\n",
        "\n",
        "\n",
        "def kitapkayıtArama():\n",
        "  dosyaAç = \"/content/drive/MyDrive/veritabani.txt\"\n",
        "  kitapAra = input(\"Aradığınız eseri giriniz: \")\n",
        "  katalog = open(dosyaAç, \"r\")\n",
        "  for kitaplar in katalog.readline():\n",
        "    if kitaplar == kitapAra:\n",
        "      print(\"Aradığınız Kitap Kaydına Ulaşıldı.\")\n",
        "  else:\n",
        "   print(\"Aradığınız Kitap Kütüphane Kataloğunda Bulunmamaktadır. \")\n",
        "\n",
        "\n",
        "\n",
        "def menu():\n",
        "  while True:\n",
        "    seçimYapmak = input(\"Bir Fonksiyon Seçiniz? \\n 1) Kitapların kayıtlarını listele  - 2) Yeni Kayıt Ekle - 3)  Kayıt ara - 0) Çıkış \")\n",
        "    if seçimYapmak == \"1\":\n",
        "      print(\"Kitaplar Listelenecektir \")\n",
        "      KitaplarınListesi()\n",
        "    elif seçimYapmak == \"2\":\n",
        "      print(\"Kayıt için Aşağıdaki Soruları Cevaplayınız \")\n",
        "      KitaplarınKaydı()\n",
        "    elif seçimYapmak == \"3\":\n",
        "      print(\"İstediğiniz Kitap İsmini Yazınız Kütüphanemiz Kontrol etsin \")\n",
        "      kitapkayıtArama()\n",
        "    elif seçimYapmak == \"0\":\n",
        "      print(\"katologdan çıkış yaptınız\")\n",
        "      break\n",
        "    else:\n",
        "      print(\"Seçtiğiniz komut tanımlı değil..!\")\n",
        "\n",
        "menu()"
      ],
      "metadata": {
        "id": "ZtPhrnZPkqQZ",
        "colab": {
          "base_uri": "https://localhost:8080/"
        },
        "outputId": "9cece293-6801-413d-e9fe-d5bb4d411b7b"
      },
      "execution_count": 15,
      "outputs": [
        {
          "output_type": "stream",
          "name": "stdout",
          "text": [
            "Kütüphane Katoloğuna Hoşgeldiniz :)\n",
            "İsminizi Giriniz: Elmas\n",
            "Bir Fonksiyon Seçiniz? \n",
            " 1) Kitapların kayıtlarını listele  - 2) Yeni Kayıt Ekle - 3)  Kayıt ara - 0) Çıkış 1\n",
            "Kitaplar Listelenecektir \n",
            "Beyoğlu'nun en güzel abisi, Ahmet Ümit, 2013, Everest\n",
            "\n",
            "Kendine ait bir oda, Virginia Woolf, 2012, kırmızıkedi\n",
            "\n",
            "Bir Delinin Hatıra Defteri, Nikolay Vasilyeviç Gogol, 2015, Evrensel Basım Yayın\n",
            "\n",
            "Gurur ve Önyargı, Jane Austen, 2018, Doğan Egmont yayıncılık\n",
            "\n",
            "İlyada, Homeros, 2014, Can YayınlarıRomeo ve juliet , William Shakespeare , 2014 , Remzi Kitabevi\n",
            "\n",
            "Romeo ve Juliet , William Shakespeare , 2014 , Remzi Kitabevi\n",
            "\n",
            "Bir Fonksiyon Seçiniz? \n",
            " 1) Kitapların kayıtlarını listele  - 2) Yeni Kayıt Ekle - 3)  Kayıt ara - 0) Çıkış 2\n",
            "Kayıt için Aşağıdaki Soruları Cevaplayınız \n",
            "Kitap adını giriniz: Romeo ve Juliet\n",
            "Yazar adını giriniz: William Shakespeare\n",
            "Basım yılını giriniz: 2014\n",
            "Yayınevini giriniz: Remzi Kitabevi\n",
            "Bir Fonksiyon Seçiniz? \n",
            " 1) Kitapların kayıtlarını listele  - 2) Yeni Kayıt Ekle - 3)  Kayıt ara - 0) Çıkış 3\n",
            "İstediğiniz Kitap İsmini Yazınız Kütüphanemiz Kontrol etsin \n",
            "Aradığınız eseri giriniz: Aşk ve Ceza\n",
            "Aradığınız Kitap Kütüphane Kataloğunda Bulunmamaktadır. \n",
            "Bir Fonksiyon Seçiniz? \n",
            " 1) Kitapların kayıtlarını listele  - 2) Yeni Kayıt Ekle - 3)  Kayıt ara - 0) Çıkış 0\n",
            "katologdan çıkış yaptınız\n"
          ]
        }
      ]
    }
  ]
}