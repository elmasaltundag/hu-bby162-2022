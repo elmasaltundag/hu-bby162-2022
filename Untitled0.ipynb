{
  "nbformat": 4,
  "nbformat_minor": 0,
  "metadata": {
    "colab": {
      "name": "Untitled0.ipynb",
      "provenance": [],
      "authorship_tag": "ABX9TyOvYGw0pahrmyDqdA+ZpVnt",
      "include_colab_link": true
    },
    "kernelspec": {
      "name": "python3",
      "display_name": "Python 3"
    },
    "language_info": {
      "name": "python"
    }
  },
  "cells": [
    {
      "cell_type": "markdown",
      "metadata": {
        "id": "view-in-github",
        "colab_type": "text"
      },
      "source": [
        "<a href=\"https://colab.research.google.com/github/elmasaltundag/hu-bby162-2022/blob/main/Untitled0.ipynb\" target=\"_parent\"><img src=\"https://colab.research.google.com/assets/colab-badge.svg\" alt=\"Open In Colab\"/></a>"
      ]
    },
    {
      "cell_type": "code",
      "execution_count": 1,
      "metadata": {
        "colab": {
          "base_uri": "https://localhost:8080/"
        },
        "id": "Ftq6W8U01bwn",
        "outputId": "325c8d9f-ec30-4dc5-f5fb-f954efed2aad"
      },
      "outputs": [
        {
          "output_type": "stream",
          "name": "stdout",
          "text": [
            "a =2\n",
            "b =2\n"
          ]
        }
      ],
      "source": [
        "a = b = 2\n",
        "print(\"a =\" + str(a))\n",
        "print(\"b =\" + str(b))\n"
      ]
    },
    {
      "cell_type": "code",
      "source": [
        "adSoyad = \"elmas altundağ\"\n",
        "print(\"Adı Soyadı: + elmas altundağ\")"
      ],
      "metadata": {
        "colab": {
          "base_uri": "https://localhost:8080/"
        },
        "id": "F9N83mHC25ih",
        "outputId": "4fe37185-14f0-4acc-951b-bb7e2de63c7b"
      },
      "execution_count": 3,
      "outputs": [
        {
          "output_type": "stream",
          "name": "stdout",
          "text": [
            "Adı Soyadı: + elmas altundağ\n"
          ]
        }
      ]
    },
    {
      "cell_type": "code",
      "source": [
        "# Ekrana e-posta yazdır\n",
        "eposta = \"elmasaltundag@gmail.com\"\n",
        "print(\"eposta:\" + eposta) \n"
      ],
      "metadata": {
        "colab": {
          "base_uri": "https://localhost:8080/"
        },
        "id": "uyUR1VNT3T0J",
        "outputId": "564ce538-1be8-4591-ff6b-2fd2978a8a61"
      },
      "execution_count": 6,
      "outputs": [
        {
          "output_type": "stream",
          "name": "stdout",
          "text": [
            "eposta:elmasaltundag@gmail.com\n"
          ]
        }
      ]
    },
    {
      "cell_type": "code",
      "source": [
        "benimdegiskenim = \"elmas\"\n",
        "print(benimdegiskenim)\n",
        "\n"
      ],
      "metadata": {
        "colab": {
          "base_uri": "https://localhost:8080/"
        },
        "id": "5VyfvtI-6z7a",
        "outputId": "31ea5e43-7983-4835-ce0e-7740117b93c7"
      },
      "execution_count": 14,
      "outputs": [
        {
          "output_type": "stream",
          "name": "stdout",
          "text": [
            "elmas\n"
          ]
        }
      ]
    },
    {
      "cell_type": "code",
      "source": [
        "degisken = 1 \n",
        "kullanıcıAdı = \"elmasaltndg\"\n",
        "print(kullanıcıAdı)"
      ],
      "metadata": {
        "colab": {
          "base_uri": "https://localhost:8080/"
        },
        "id": "S-cfbThXEoV6",
        "outputId": "aab76b1f-2554-4ee1-ac91-d581ddcbc217"
      },
      "execution_count": 15,
      "outputs": [
        {
          "output_type": "stream",
          "name": "stdout",
          "text": [
            "elmasaltndg\n"
          ]
        }
      ]
    },
    {
      "cell_type": "code",
      "source": [
        "sayı = 100\n",
        "print(float(100))\n"
      ],
      "metadata": {
        "colab": {
          "base_uri": "https://localhost:8080/"
        },
        "id": "BARe0HdVJIyr",
        "outputId": "87c203fe-d5a8-498a-d94a-04d662495084"
      },
      "execution_count": 19,
      "outputs": [
        {
          "output_type": "stream",
          "name": "stdout",
          "text": [
            "100.0\n"
          ]
        }
      ]
    },
    {
      "cell_type": "code",
      "source": [
        "sayı = 4.9\n",
        "print(int(4.9))"
      ],
      "metadata": {
        "colab": {
          "base_uri": "https://localhost:8080/"
        },
        "id": "LzW2vsXHJsUp",
        "outputId": "7e2895ab-f950-4fc3-b89a-7494a41625a6"
      },
      "execution_count": 21,
      "outputs": [
        {
          "output_type": "stream",
          "name": "stdout",
          "text": [
            "4\n"
          ]
        }
      ]
    },
    {
      "cell_type": "code",
      "source": [
        "sayı = 99\n",
        "print(str(99))"
      ],
      "metadata": {
        "colab": {
          "base_uri": "https://localhost:8080/"
        },
        "id": "lbJcY-JlJ5Fq",
        "outputId": "41c9da5f-c175-4d3e-c4c8-0f5db05f7b7e"
      },
      "execution_count": 23,
      "outputs": [
        {
          "output_type": "stream",
          "name": "stdout",
          "text": [
            "99\n"
          ]
        }
      ]
    },
    {
      "cell_type": "code",
      "source": [
        "sayı = 3.14\n",
        "print(int(3.14))\n",
        "print(3.14)"
      ],
      "metadata": {
        "colab": {
          "base_uri": "https://localhost:8080/"
        },
        "id": "-UUUZ1y4Kkf1",
        "outputId": "4e49a4de-cbf3-4bc4-9be8-04655b721c9b"
      },
      "execution_count": 26,
      "outputs": [
        {
          "output_type": "stream",
          "name": "stdout",
          "text": [
            "3\n",
            "3.14\n"
          ]
        }
      ]
    },
    {
      "cell_type": "code",
      "source": [
        "sayı = 7.0\n",
        "sonuc = sayı + 3.5\n",
        "print(sonuc)"
      ],
      "metadata": {
        "colab": {
          "base_uri": "https://localhost:8080/"
        },
        "id": "wMRAz1cQLFDl",
        "outputId": "dbf43bf9-2fbd-4367-ef0e-ad02ed8e4429"
      },
      "execution_count": 27,
      "outputs": [
        {
          "output_type": "stream",
          "name": "stdout",
          "text": [
            "10.5\n"
          ]
        }
      ]
    },
    {
      "cell_type": "code",
      "source": [
        "sayı = 90\n",
        "sonuc = sayı - 15\n",
        "print(sonuc)"
      ],
      "metadata": {
        "colab": {
          "base_uri": "https://localhost:8080/"
        },
        "id": "dt15I6MRLS9u",
        "outputId": "a97164bf-08b9-4830-de71-20b6b93bd461"
      },
      "execution_count": 29,
      "outputs": [
        {
          "output_type": "stream",
          "name": "stdout",
          "text": [
            "75\n"
          ]
        }
      ]
    },
    {
      "cell_type": "code",
      "source": [
        "sayı = 10\n",
        "sonuc = sayı * 10\n",
        "print(sonuc)"
      ],
      "metadata": {
        "colab": {
          "base_uri": "https://localhost:8080/"
        },
        "id": "eygDSj3sLeDz",
        "outputId": "0a59fa2f-df8a-44f8-f47e-a27ebb193023"
      },
      "execution_count": 30,
      "outputs": [
        {
          "output_type": "stream",
          "name": "stdout",
          "text": [
            "100\n"
          ]
        }
      ]
    },
    {
      "cell_type": "code",
      "source": [
        "sayı = 2\n",
        "sonuc = sayı / 1\n",
        "print(sonuc)"
      ],
      "metadata": {
        "colab": {
          "base_uri": "https://localhost:8080/"
        },
        "id": "pGZVwcMoLqhX",
        "outputId": "204571b4-44e6-4df4-e84f-eabf06cdbe60"
      },
      "execution_count": 31,
      "outputs": [
        {
          "output_type": "stream",
          "name": "stdout",
          "text": [
            "2.0\n"
          ]
        }
      ]
    },
    {
      "cell_type": "code",
      "source": [
        "sayı = 4\n",
        "sonuc = sayı ** 2\n",
        "print(sonuc)"
      ],
      "metadata": {
        "colab": {
          "base_uri": "https://localhost:8080/"
        },
        "id": "EiCA-Z6GLyKO",
        "outputId": "c93ff6ce-5df3-45b4-b66e-f4d2374f90b8"
      },
      "execution_count": 33,
      "outputs": [
        {
          "output_type": "stream",
          "name": "stdout",
          "text": [
            "16\n"
          ]
        }
      ]
    },
    {
      "cell_type": "code",
      "source": [
        "sayı = 40\n",
        "sonuc = sayı % 3\n",
        "print(sonuc)"
      ],
      "metadata": {
        "colab": {
          "base_uri": "https://localhost:8080/"
        },
        "id": "QpMwfCFqL91K",
        "outputId": "5d7b75d9-225e-4c87-e480-fd7cdf8d0297"
      },
      "execution_count": 34,
      "outputs": [
        {
          "output_type": "stream",
          "name": "stdout",
          "text": [
            "1\n"
          ]
        }
      ]
    },
    {
      "cell_type": "code",
      "source": [
        "\n",
        "urunAdı = \"bebek\"\n",
        "urunBedeliAvro = 850\n",
        "kurAvro = 15\n",
        "urunAdet = 2\n",
        "pesinAdetIndırımTL = 500\n",
        "butce = 100000000\n",
        "hesapla = ((urunBedeliAvro * urunAdet) * kurAvro) - pesinAdetIndırımTL\n",
        "butceTamam = butce > hesapla\n",
        "print(hesapla)\n",
        "print(\"Alışveriş butçeme uygun mu?\" + str(butceTamam))\n",
        "\n",
        "\n"
      ],
      "metadata": {
        "colab": {
          "base_uri": "https://localhost:8080/"
        },
        "id": "iwQP9VyRMILl",
        "outputId": "f01f4e27-35f8-45a9-d006-bf0000a319f2"
      },
      "execution_count": 50,
      "outputs": [
        {
          "output_type": "stream",
          "name": "stdout",
          "text": [
            "25000\n",
            "Alışveriş butçeme uygun mu?True\n"
          ]
        }
      ]
    },
    {
      "cell_type": "code",
      "source": [
        "sayı = 8\n",
        "sayı += 9 # mevcut değer olan 8'e 9 daha ekler.\n",
        "print(sayı)"
      ],
      "metadata": {
        "colab": {
          "base_uri": "https://localhost:8080/"
        },
        "id": "Yc9f4ekIQ5Ia",
        "outputId": "311f1579-587a-4ce8-c221-72c0c36018e0"
      },
      "execution_count": 51,
      "outputs": [
        {
          "output_type": "stream",
          "name": "stdout",
          "text": [
            "17\n"
          ]
        }
      ]
    },
    {
      "cell_type": "code",
      "source": [
        "sayı = 20\n",
        "sayı -= 10\n",
        "print(sayı)"
      ],
      "metadata": {
        "colab": {
          "base_uri": "https://localhost:8080/"
        },
        "id": "WoyWAIOjRrlm",
        "outputId": "2dbd57f5-6490-4199-ce36-8df7543f519f"
      },
      "execution_count": 52,
      "outputs": [
        {
          "output_type": "stream",
          "name": "stdout",
          "text": [
            "10\n"
          ]
        }
      ]
    },
    {
      "cell_type": "code",
      "source": [
        "sayı = 8\n",
        "sayı += 4\n",
        "print(sayı)\n",
        "sayı -= 6\n",
        "print(\"sayı =\" + str(sayı)) "
      ],
      "metadata": {
        "colab": {
          "base_uri": "https://localhost:8080/"
        },
        "id": "YHxpN8gZR8gN",
        "outputId": "c6a59ce6-c69a-4d5b-97a7-a777ec037aa3"
      },
      "execution_count": 53,
      "outputs": [
        {
          "output_type": "stream",
          "name": "stdout",
          "text": [
            "12\n",
            "sayı =6\n"
          ]
        }
      ]
    },
    {
      "cell_type": "code",
      "source": [
        "deger1 = 10\n",
        "deger2 = 12\n",
        "esitmi = (deger1 == deger2)\n",
        "print(esitmi)"
      ],
      "metadata": {
        "id": "mmunB5aUVlkS",
        "outputId": "745dd04d-25a8-4a53-c2a6-966a6f02063b",
        "colab": {
          "base_uri": "https://localhost:8080/"
        }
      },
      "execution_count": 81,
      "outputs": [
        {
          "output_type": "stream",
          "name": "stdout",
          "text": [
            "False\n"
          ]
        }
      ]
    },
    {
      "cell_type": "code",
      "source": [
        "deger1 = \"elmas\"\n",
        "deger2 = \"elma\"\n",
        "esitmi = (deger1 == deger2)\n",
        "print(esitmi)"
      ],
      "metadata": {
        "id": "zqY_MRXcX_-K",
        "outputId": "13ba465b-55fd-4d35-d1ea-bea3814d02bb",
        "colab": {
          "base_uri": "https://localhost:8080/"
        }
      },
      "execution_count": 82,
      "outputs": [
        {
          "output_type": "stream",
          "name": "stdout",
          "text": [
            "False\n"
          ]
        }
      ]
    },
    {
      "cell_type": "code",
      "source": [
        "# Şimdiki yılı al \n",
        "sYıl = input(\"içinde bulunduğunyılı gir:\")\n",
        "# doğum yılı al \n",
        "dTarih = input(\"doğum tarihini gir:\")\n",
        "# dönüşrtürme işlemleri \n",
        "sYıl = int(sYıl)\n",
        "dTarih = int(dTarih)\n",
        "# yaşını hesapla\n",
        "yas = sYıl - dTarih\n",
        "# yaşı ekrana yazdır\n",
        "print(\"Yaşınız:\" + str(yas))\n"
      ],
      "metadata": {
        "id": "ILWz8LqfYWT2",
        "outputId": "265b9f7c-1540-4072-b40f-18c0f3b9bc24",
        "colab": {
          "base_uri": "https://localhost:8080/"
        }
      },
      "execution_count": 85,
      "outputs": [
        {
          "output_type": "stream",
          "name": "stdout",
          "text": [
            "içinde bulunduğunyılı gir:2022\n",
            "doğum tarihini gir:2000\n",
            "Yaşınız:22\n"
          ]
        }
      ]
    },
    {
      "cell_type": "code",
      "source": [
        "sYıl = input(\"içinde bulunduğun yıl\")\n",
        "dTarih = input(\"doğum yılını gir\")\n",
        "sYıl = int(sYıl)\n",
        "dTarih = int(dTarih)\n",
        "yas = sYıl - dTarih \n",
        "print(\"yaşınızı:\" + str(yas))\n",
        "\n"
      ],
      "metadata": {
        "id": "zaVU1dTFaTZV",
        "outputId": "d2825d05-a5c9-4f2c-a999-18e6d69d6c1a",
        "colab": {
          "base_uri": "https://localhost:8080/"
        }
      },
      "execution_count": 87,
      "outputs": [
        {
          "output_type": "stream",
          "name": "stdout",
          "text": [
            "içinde bulunduğun yıl2022\n",
            "doğum yılını gir2002\n",
            "yaşınızı:20\n"
          ]
        }
      ]
    }
  ]
}