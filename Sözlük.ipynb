{
  "nbformat": 4,
  "nbformat_minor": 0,
  "metadata": {
    "colab": {
      "name": "Untitled1.ipynb",
      "provenance": [],
      "authorship_tag": "ABX9TyPDU5UHLHHCLWaGo0D8x/OW",
      "include_colab_link": true
    },
    "kernelspec": {
      "name": "python3",
      "display_name": "Python 3"
    },
    "language_info": {
      "name": "python"
    }
  },
  "cells": [
    {
      "cell_type": "markdown",
      "metadata": {
        "id": "view-in-github",
        "colab_type": "text"
      },
      "source": [
        "<a href=\"https://colab.research.google.com/github/elmasaltundag/hu-bby162-2022/blob/main/S%C3%B6zl%C3%BCk.ipynb\" target=\"_parent\"><img src=\"https://colab.research.google.com/assets/colab-badge.svg\" alt=\"Open In Colab\"/></a>"
      ]
    },
    {
      "cell_type": "code",
      "execution_count": 2,
      "metadata": {
        "colab": {
          "base_uri": "https://localhost:8080/"
        },
        "id": "5xP6s7C98aIg",
        "outputId": "093806c3-1d76-4551-c034-08ca4fa2af52"
      },
      "outputs": [
        {
          "output_type": "stream",
          "name": "stdout",
          "text": [
            "{'water': '물', 'milk': '우유'}\n",
            "kelimeyi giriniz:water\n",
            "water\n",
            "water\n",
            "sözlükte bu kelime varmı?True\n",
            "물\n"
          ]
        }
      ],
      "source": [
        "# sözlük oluşturuluyor\n",
        "sözlük = {\"water\":\"물\", \"milk\":\"우유\"}\n",
        "print(sözlük)\n",
        "\n",
        "# arama yapılacak kelime alınıyor\n",
        "arama = input(\"kelimeyi giriniz:\")\n",
        "print(arama.lower())\n",
        "print(arama)\n",
        "\n",
        "# kelime sözlükte varmı\n",
        "kontrol = arama in sözlük.keys()\n",
        "print(\"sözlükte bu kelime varmı?\" +str(kontrol))\n",
        "\n",
        "#girilen kelimenin açıklamasını yazdır\n",
        "print(sözlük[arama])\n",
        "\n",
        "\n"
      ]
    }
  ]
}