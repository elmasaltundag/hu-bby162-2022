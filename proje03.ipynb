{
  "nbformat": 4,
  "nbformat_minor": 0,
  "metadata": {
    "colab": {
      "name": "proje03.ipynb ",
      "provenance": [],
      "collapsed_sections": [],
      "authorship_tag": "ABX9TyMrvUJC1yxCuBXEF1Dm5lyS",
      "include_colab_link": true
    },
    "kernelspec": {
      "name": "python3",
      "display_name": "Python 3"
    },
    "language_info": {
      "name": "python"
    }
  },
  "cells": [
    {
      "cell_type": "markdown",
      "metadata": {
        "id": "view-in-github",
        "colab_type": "text"
      },
      "source": [
        "<a href=\"https://colab.research.google.com/github/elmasaltundag/hu-bby162-2022/blob/main/proje03.ipynb\" target=\"_parent\"><img src=\"https://colab.research.google.com/assets/colab-badge.svg\" alt=\"Open In Colab\"/></a>"
      ]
    },
    {
      "cell_type": "code",
      "execution_count": null,
      "metadata": {
        "id": "7-fyXJxEU782"
      },
      "outputs": [],
      "source": [
        "def yeniOyun():\n",
        "\n",
        "    tahminler = []\n",
        "    doğruTahminler = 0\n",
        "    soruNumarası = 1\n",
        "\n",
        "    for key in sorular:\n",
        "        print(\"-------------------------\")\n",
        "        print(key)\n",
        "        for i in seçenekler[soruNumarası-1]:\n",
        "            print(i)\n",
        "        tahmin = input(\"Giriş (A veya B): \")\n",
        "        tahmin = tahmin.upper()\n",
        "        tahminler.append(tahmin)\n",
        "\n",
        "        doğruTahminler += doğruCevap(sorular.get(key), tahmin)\n",
        "        soruNumarası += 1\n",
        "\n",
        "    oyunPuanı(doğruTahminler, tahminler)\n",
        "\n",
        "\n",
        "def doğruCevap(cevap, tahmin):\n",
        "\n",
        "    if cevap == tahmin:\n",
        "        print(\"BİLDİN!\")\n",
        "        return 1\n",
        "    else:\n",
        "        print(\"BİLEMEDİN!\")\n",
        "        return 0\n",
        "\n",
        "\n",
        "def oyunPuanı(doğruTahminler, tahminler):\n",
        "    print(\"-------------------------\")\n",
        "    print(\"SONUÇLAR\")\n",
        "    print(\"-------------------------\")\n",
        "\n",
        "    print(\"cevaplar: \", end=\"\")\n",
        "    for i in sorular:\n",
        "        print(sorular.get(i), end=\" \")\n",
        "    print()\n",
        "\n",
        "    print(\"tahminler: \", end=\"\")\n",
        "    for i in tahminler:\n",
        "        print(i, end=\" \")\n",
        "    print()\n",
        "\n",
        "    puan = int((doğruTahminler/len(sorular))*100)\n",
        "    print(\"Aldığınız puan: \"+str(puan)+\"%\")\n",
        "\n",
        "    if puan >= 60:\n",
        "      print(\"Bravo, Testi Başarı ile Geçtiniz :)\")\n",
        "    else:\n",
        "      print(\"Üzgünüm, Testi Geçemediniz :(\")\n",
        "\n",
        "\n",
        "def tekrarOyna():\n",
        "\n",
        "    Denemekistermisiniz = input(\"Tekrar oynamak istermisiniz? (evet veya hayır): \")\n",
        "    Denemekistermisiniz = Denemekistermisiniz.upper()\n",
        "\n",
        "    if Denemekistermisiniz == \"EVET\":\n",
        "        return True\n",
        "    else:\n",
        "        return False\n",
        "\n",
        "\n",
        "\n",
        "sorular = {\n",
        " \"Mustafa Kemal Atatürk, Cumhurbaşkanı olduğunda 42 yaşındaydı?: \": \"A\",\n",
        "    \"Osmanlı’ya çeyiz yoluyla geçen Türk beyliği Karamanoğullarıdır?: \": \"B\", \n",
        "    \"Türkiye yüz ölçümü olarak dünyada 37. büyük ülkedir?: \": \"A\",\n",
        "    \"Avrupa Birliğinin başkenti Viyanadır?: \": \"B\",\n",
        "    \"Budizmde ulaşılabilecek en üst mertebeye buddha denir?: \": \"B\"\n",
        "}\n",
        "\n",
        "seçenekler = [[\"A. Evet\", \"B. Hayır\"],\n",
        "              [\"A. Evet\", \"B. Hayır\"],\n",
        "              [\"A. Evet\", \"B. Hayır\"],\n",
        "              [\"A. Evet\", \"B. Hayır\"],\n",
        "              [\"A. Evet\", \"B. Hayır\"]]\n",
        "\n",
        "yeniOyun()\n",
        "\n",
        "while tekrarOyna():\n",
        "    yeniOyun()\n",
        "\n",
        "print(\"Hoşçakalın!\")\n"
      ]
    }
  ]
}