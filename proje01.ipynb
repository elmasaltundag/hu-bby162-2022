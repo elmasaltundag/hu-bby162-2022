{
  "nbformat": 4,
  "nbformat_minor": 0,
  "metadata": {
    "colab": {
      "name": "proje01.ipynb",
      "provenance": [],
      "authorship_tag": "ABX9TyOwb7K8HAQ0et6FUz3AbDPh",
      "include_colab_link": true
    },
    "kernelspec": {
      "name": "python3",
      "display_name": "Python 3"
    },
    "language_info": {
      "name": "python"
    }
  },
  "cells": [
    {
      "cell_type": "markdown",
      "metadata": {
        "id": "view-in-github",
        "colab_type": "text"
      },
      "source": [
        "<a href=\"https://colab.research.google.com/github/elmasaltundag/hu-bby162-2022/blob/main/proje01.ipynb\" target=\"_parent\"><img src=\"https://colab.research.google.com/assets/colab-badge.svg\" alt=\"Open In Colab\"/></a>"
      ]
    },
    {
      "cell_type": "code",
      "source": [
        "liste = [\"tavşan\", \"marul\", \"leopar\", \"salam\", \"demir\", \"tahta\"]\n",
        "while True:\n",
        "  try:\n",
        "    secim = int(input(\"İndeks numarasını giriniz: \"))\n",
        "  except ValueError as hata:\n",
        "    print(\"metin girdiniz!\")\n",
        "    print(\"hatalı oldu : \", hata)\n",
        "    continue\n",
        "  else:\n",
        "    print(\"rakam girdiniz tebrikler sonunda başardınız....\")\n",
        "    break\n",
        "listeToplam = len(liste)\n",
        "if secim < listeToplam:\n",
        "  print(liste[secim])\n",
        "else:\n",
        "  print(\"İndeks dışı giriş..!\")"
      ],
      "metadata": {
        "colab": {
          "base_uri": "https://localhost:8080/"
        },
        "id": "-xFNCmoYNfBA",
        "outputId": "e2ebfd60-2913-4cb3-e5d5-8777427ad922"
      },
      "execution_count": 65,
      "outputs": [
        {
          "output_type": "stream",
          "name": "stdout",
          "text": [
            "İndeks numarasını giriniz: leopar\n",
            "metin girdiniz!\n",
            "hatalı oldu :  invalid literal for int() with base 10: 'leopar'\n",
            "İndeks numarasını giriniz: salam\n",
            "metin girdiniz!\n",
            "hatalı oldu :  invalid literal for int() with base 10: 'salam'\n",
            "İndeks numarasını giriniz: 3\n",
            "rakam girdiniz tebrikler sonunda oldu....\n",
            "salam\n"
          ]
        }
      ]
    }
  ]
}