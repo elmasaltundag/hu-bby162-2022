{
  "cells": [
    {
      "cell_type": "markdown",
      "metadata": {
        "id": "view-in-github",
        "colab_type": "text"
      },
      "source": [
        "<a href=\"https://colab.research.google.com/github/elmasaltundag/hu-bby162-2022/blob/main/proje02.ipynb\" target=\"_parent\"><img src=\"https://colab.research.google.com/assets/colab-badge.svg\" alt=\"Open In Colab\"/></a>"
      ]
    },
    {
      "cell_type": "code",
      "execution_count": null,
      "metadata": {
        "id": "KgQ6-a82WaAA"
      },
      "outputs": [],
      "source": [
        "kelimeler = [\"bisiklet\", \"triatlon\", \"yüzme\", \"koşu\"]\n",
        "print(kelimeler[0])\n",
        "print(len(kelimeler[0]))\n"
      ]
    },
    {
      "cell_type": "code",
      "source": [
        "import random\n",
        "from random import choice\n",
        "\n",
        "#adamCan = 3\n",
        "\n",
        "#kelimeler = [\"bisiklet\", \"triatlon\", \"yüzme\", \"koşu\"]\n",
        "#secilenKelime = choice(kelimeler)\n",
        "#print(secilenKelime)\n",
        "#dizilenKelime = []\n",
        "#for diz in secilenKelime:\n",
        "    #dizilenKelime.append(\"_\")\n",
        "#print(dizilenKelime)\n",
        "\n",
        "kelimeler = random.choice([\"yüzme\" \"elmas\" \"armut\"])\n",
        "toplamhak = 10\n",
        "yapılantahmin = ''\n",
        "while len(kelimeler) > 0:\n",
        "  asilkelime = \"\"\n",
        "  hatalıtahminsayısı = 0\n",
        "for harf in kelimeler:\n",
        "    if harf in yapılantahmin:\n",
        "      asilkelime = asilkelime + harf\n",
        "else:\n",
        "  asilkelime = asilkelime + \"-\" + \"\"\n",
        "  if asilkelime == kelimeler:\n",
        "    print(asilkelime)\n",
        "    print(\"tebrikler\")\n",
        "   \n",
        "\n",
        "\n",
        "\n",
        "while True:\n",
        "  print(\"1-Basit Seviye - 2-Orta Seviye - 3-İleri Seviye\")\n",
        "  çalıştır = input(\"Hangi fonksiyonla başlamak istersiniz: \")\n",
        "  if çalıştır == \"1\":\n",
        "    print(\"Basit seviye ile başlayalım!Bu seviyede 10 adet canınız bulunacaktır.Kelimelerin uzunluğu: 5 harften oluşmaktadır.\")\n",
        "  if çalıştır ==\"2\":\n",
        "      print(\"Orta seviye ile devam edelim!Bu seviyede 5 adet canınız bulunacaktır. Kelimelerin uzunluğu: 7 harften oluşmaktadır.\")\n",
        "  if çalıştır == \"3\":\n",
        "      print(\"İleri seviye ile sürdürelim!Bu seviyede 3 adet canınız bulunacaktır.Kelimelerin uzunluğu: 10 harften oluşmaktadır.\")\n",
        "  \n",
        "\n",
        "\n",
        "while adamCan > 0:\n",
        "    girilenHarf = input(\"Bir harf giriniz: \")\n",
        "    canKontrol = girilenHarf in secilenKelime\n",
        "    if canKontrol == False:\n",
        "        adamCan-=1\n",
        "    i = 0\n",
        "    for kontrol in secilenKelime:\n",
        "        if secilenKelime[i] == girilenHarf:\n",
        "            dizilenKelime[i] = girilenHarf\n",
        "        i+=1\n",
        "    print(dizilenKelime)\n",
        "    print(\"Kalan can: \"+ str(adamCan))"
      ],
      "metadata": {
        "id": "TXTVoD87JdXK"
      },
      "execution_count": null,
      "outputs": []
    },
    {
      "cell_type": "code",
      "source": [
        " \n",
        "from random import choice\n",
        "\n",
        "adamCan = 3\n",
        "\n",
        "kelimeler = [\"bisiklet\", \"triatlon\", \"yüzme\", \"koşu\"]\n",
        "secilenKelime = choice(kelimeler)\n",
        "print(secilenKelime)\n",
        "dizilenKelime = []\n",
        "for diz in secilenKelime:\n",
        "    dizilenKelime.append(\"_\")\n",
        "print(dizilenKelime)\n",
        "\n",
        "def basitSeviye():\n",
        "  print(\"basitSeviye\")\n",
        " #if seviye in \"yüzme\" :\n",
        "#print(\"Basit seviye ile başlayalım!Bu seviyede 10 adet canınız bulunacaktır.Kelimelerin uzunluğu: 5 harften oluşmaktadır.\")\n",
        "while True:\n",
        "  print(\"basitSeviye\")\n",
        "  çaliştir = input(\"basitSeviye:\")\n",
        "  if çalıştır == \"basitSeviye\":\n",
        "   break\n",
        "else:\n",
        "    print(\"malesef olmadı\")\n",
        "kelimeler [2] = []\n",
        "print(kelimeler)\n",
        "     \n",
        "\n",
        "while adamCan > 0:\n",
        "    girilenHarf = input(\"Bir harf giriniz: \")\n",
        "    canKontrol = girilenHarf in secilenKelime\n",
        "    if canKontrol == False:\n",
        "        adamCan-=1\n",
        "    i = 0\n",
        "    for kontrol in secilenKelime:\n",
        "        if secilenKelime[i] == girilenHarf:\n",
        "            dizilenKelime[i] = girilenHarf\n",
        "        i+=1\n",
        "    print(dizilenKelime)\n",
        "    print(\"Kalan can: \"+ str(adamCan))"
      ],
      "metadata": {
        "id": "DBGyLjFQSZ-e"
      },
      "execution_count": null,
      "outputs": []
    },
    {
      "cell_type": "code",
      "source": [
        "from random import choice\n",
        "\n",
        "adamCan = 3\n",
        "\n",
        "kelimeler = [\"bisiklet\", \"triatlon\", \"yüzme\", \"koşu\"]\n",
        "secilenKelime = choice(kelimeler)\n",
        "print(secilenKelime)\n",
        "dizilenKelime = []\n",
        "for diz in secilenKelime:\n",
        "    dizilenKelime.append(\"_\")\n",
        "print(dizilenKelime)\n",
        "\n",
        "\n"
      ],
      "metadata": {
        "id": "SN9jloufRwmv"
      },
      "execution_count": null,
      "outputs": []
    },
    {
      "cell_type": "code",
      "source": [
        "#adam asmaca deneme çaışması\n",
        "from random import randint\n",
        "# ileri seviye adam asmaca 10 harf ve 3 can hakkı bulunmaktadır.\n",
        "adamCan = 3\n",
        "kelimeler = [\"polis\", \"doktor\", \"kütüphaneci\", \"avukat\", \"itfaiyeci\", \"hemşire\", \"öğretmen\"]\n",
        "kelimesayısı = len(kelimeler)\n",
        "secilen = randint(0, kelimesayısı-1)\n",
        "secilenKelime = kelimeler[secilen]\n",
        "print(secilenKelime)\n",
        "dizilenKelime = []\n",
        "kelimeSayisi = len(kelimeler)\n",
        "secilen = randint(0, kelimeSayisi -1)\n",
        "secilenKelime = kelimeler[secilen]\n",
        "print(secilenKelime)\n",
        "dizilenKelime = []\n",
        "for diz in kelimeler[secilen]:\n",
        "    dizilenKelime.append(\"_\")\n",
        "print(dizilenKelime)\n",
        "\n",
        "while adamCan > 0:\n",
        "    girilenHarf = input(\"Bir harf giriniz: \")\n",
        "    canKontrol = girilenHarf in secilenKelime\n",
        "    if canKontrol == False:\n",
        "        adamCan-=1\n",
        "    i = 0\n",
        "    for kontrol in secilenKelime:\n",
        "        if secilenKelime[i] == girilenHarf:\n",
        "            dizilenKelime[i] = girilenHarf\n",
        "        i+=1\n",
        "    print(dizilenKelime)\n",
        "    print(\"Kalan can: \"+ str(adamCan))"
      ],
      "metadata": {
        "id": "xLtYyT61SEpM"
      },
      "execution_count": null,
      "outputs": []
    },
    {
      "cell_type": "code",
      "source": [
        "from random import choice\n",
        "\n",
        "adamCan = 10\n",
        "\n",
        "kelimeler = [\"elmas\", \"armut\", \"yüzme\", \"köpek\"]\n",
        "secilenKelime = choice(kelimeler)\n",
        "print(secilenKelime)\n",
        "dizilenKelime = []\n",
        "for diz in secilenKelime:\n",
        "    dizilenKelime.append(\"_\")\n",
        "print(dizilenKelime)\n",
        "\n",
        "while adamCan > 0:\n",
        "    girilenHarf = input(\"Bir harf giriniz: \")\n",
        "    canKontrol = girilenHarf in secilenKelime\n",
        "    if canKontrol == False:\n",
        "        adamCan-=1\n",
        "    i = 0\n",
        "    for kontrol in secilenKelime:\n",
        "        if secilenKelime[i] == girilenHarf:\n",
        "            dizilenKelime[i] = girilenHarf\n",
        "        i+=1\n",
        "    print(dizilenKelime)\n",
        "    print(\"Kalan can: \"+ str(adamCan))"
      ],
      "metadata": {
        "id": "pZPhRApJWjRY"
      },
      "execution_count": null,
      "outputs": []
    },
    {
      "cell_type": "code",
      "source": [
        "from random import choice\n",
        "\n",
        "adamCan = 10\n",
        "\n",
        "kelimeler = [\"elmas\", \"armut\", \"yüzme\", \"köpek\"]\n",
        "secilenKelime = choice(kelimeler)\n",
        "print(secilenKelime)\n",
        "dizilenKelime = []\n",
        "for diz in secilenKelime:\n",
        "    dizilenKelime.append(\"_\")\n",
        "print(dizilenKelime)\n",
        "\n",
        "while True:\n",
        "  print(\"1-Basit Seviye - 2-Orta Seviye - 3-İleri Seviye\")\n",
        "  çalıştır = input(\"Hangi fonksiyonla başlamak istersiniz: \")\n",
        "  if çalıştır == \"1\":\n",
        "    print(\"Basit seviye ile başlayalım!Bu seviyede 10 adet canınız bulunacaktır.Kelimelerin uzunluğu: 5 harften oluşmaktadır.\")\n",
        "  if çalıştır ==\"2\":\n",
        "      print(\"Orta seviye ile devam edelim!Bu seviyede 5 adet canınız bulunacaktır. Kelimelerin uzunluğu: 7 harften oluşmaktadır.\")\n",
        "  if çalıştır == \"3\":\n",
        "      print(\"İleri seviye ile sürdürelim!Bu seviyede 3 adet canınız bulunacaktır.Kelimelerin uzunluğu: 10 harften oluşmaktadır.\")\n",
        "  break\n",
        "while adamCan > 0:\n",
        "    girilenHarf = input(\"Bir harf giriniz: \")\n",
        "    canKontrol = girilenHarf in secilenKelime\n",
        "    if canKontrol == False:\n",
        "        adamCan-=1\n",
        "    i = 0\n",
        "    for kontrol in secilenKelime:\n",
        "        if secilenKelime[i] == girilenHarf:\n",
        "            dizilenKelime[i] = girilenHarf\n",
        "        i+=1\n",
        "    print(dizilenKelime)\n",
        "    print(\"Kalan can: \"+ str(adamCan))"
      ],
      "metadata": {
        "id": "a2x5ajcyX2MB"
      },
      "execution_count": null,
      "outputs": []
    }
  ],
  "metadata": {
    "colab": {
      "name": "proje02.ipynb",
      "provenance": [],
      "collapsed_sections": [],
      "authorship_tag": "ABX9TyOZD33yJ4OXc+bdgwYa1Y80",
      "include_colab_link": true
    },
    "kernelspec": {
      "display_name": "Python 3",
      "name": "python3"
    },
    "language_info": {
      "name": "python"
    }
  },
  "nbformat": 4,
  "nbformat_minor": 0
}